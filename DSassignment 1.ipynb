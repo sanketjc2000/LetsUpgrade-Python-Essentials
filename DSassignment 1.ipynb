{
 "cells": [
  {
   "cell_type": "markdown",
   "metadata": {},
   "source": [
    "Question 1\n"
   ]
  },
  {
   "cell_type": "raw",
   "metadata": {},
   "source": [
    "RAINBOW"
   ]
  },
  {
   "cell_type": "code",
   "execution_count": 32,
   "metadata": {},
   "outputs": [
    {
     "name": "stdout",
     "output_type": "stream",
     "text": [
      "LETS UPGRADE\n"
     ]
    }
   ],
   "source": [
    "print('LETS UPGRADE')"
   ]
  },
  {
   "cell_type": "code",
   "execution_count": 33,
   "metadata": {},
   "outputs": [
    {
     "name": "stdout",
     "output_type": "stream",
     "text": [
      "cost price:1000\n",
      "selling price:1000\n",
      "neither profit nor loss\n"
     ]
    }
   ],
   "source": [
    "x=input(\"cost price:\")\n",
    "y=input('selling price:')\n",
    "\n",
    "if x<y:\n",
    "    print(\"profit\")\n",
    "elif x>y:\n",
    "    print(\"loss\")\n",
    "else:\n",
    "    print(\"neither profit nor loss\")"
   ]
  },
  {
   "cell_type": "code",
   "execution_count": 6,
   "metadata": {},
   "outputs": [
    {
     "name": "stdout",
     "output_type": "stream",
     "text": [
      "Enter amount in Indian Rupees:4546\n",
      "Amount in Euros: 56.825\n"
     ]
    }
   ],
   "source": [
    "rs=int(input(\"Enter amount in Indian Rupees:\"))\n",
    "euro=rs/80\n",
    "print(\"Amount in Euros:\",euro)"
   ]
  },
  {
   "cell_type": "code",
   "execution_count": null,
   "metadata": {},
   "outputs": [],
   "source": []
  }
 ],
 "metadata": {
  "kernelspec": {
   "display_name": "Python 3",
   "language": "python",
   "name": "python3"
  },
  "language_info": {
   "codemirror_mode": {
    "name": "ipython",
    "version": 3
   },
   "file_extension": ".py",
   "mimetype": "text/x-python",
   "name": "python",
   "nbconvert_exporter": "python",
   "pygments_lexer": "ipython3",
   "version": "3.8.3"
  }
 },
 "nbformat": 4,
 "nbformat_minor": 4
}
